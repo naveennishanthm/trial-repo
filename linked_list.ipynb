{
  "nbformat": 4,
  "nbformat_minor": 0,
  "metadata": {
    "colab": {
      "provenance": [],
      "authorship_tag": "ABX9TyM5uBu3lSmfeBVXnYdtCGxN",
      "include_colab_link": true
    },
    "kernelspec": {
      "name": "python3",
      "display_name": "Python 3"
    },
    "language_info": {
      "name": "python"
    }
  },
  "cells": [
    {
      "cell_type": "markdown",
      "metadata": {
        "id": "view-in-github",
        "colab_type": "text"
      },
      "source": [
        "<a href=\"https://colab.research.google.com/github/naveennishanthm/trial-repo/blob/main/linked_list.ipynb\" target=\"_parent\"><img src=\"https://colab.research.google.com/assets/colab-badge.svg\" alt=\"Open In Colab\"/></a>"
      ]
    },
    {
      "cell_type": "code",
      "execution_count": null,
      "metadata": {
        "colab": {
          "base_uri": "https://localhost:8080/"
        },
        "id": "svJq4iPtrqxe",
        "outputId": "bdd3709d-67bc-4897-cac2-ded8721c4780"
      },
      "outputs": [
        {
          "output_type": "stream",
          "name": "stdout",
          "text": [
            "None\n",
            "42 32 22 2 12 \n",
            "False\n",
            "True\n",
            "42 32 22 2 12 44 441 \n"
          ]
        }
      ],
      "source": [
        "class Node():\n",
        "    def __init__(self, data, Next=None):\n",
        "        self.data = data\n",
        "        self.next = Next\n",
        "\n",
        "class LinkedList():\n",
        "    def __init__(self):\n",
        "        self.head = None\n",
        "\n",
        "    def isEmpty(self):\n",
        "        return self.head == None\n",
        "\n",
        "    def insertfirst(self, element):\n",
        "        temp = Node(element)\n",
        "        temp.next = self.head\n",
        "        self.head = temp\n",
        "\n",
        "    def insertLast(self, element):\n",
        "        temp = Node(element)\n",
        "        current =  self.head\n",
        "        while current.next != None:\n",
        "            current = current.next\n",
        "        current.next = temp\n",
        "\n",
        "    def size(self):\n",
        "        current = self.head\n",
        "        count = 0\n",
        "        while current != None:\n",
        "            count = count + 1\n",
        "            current = current.next\n",
        "        return count\n",
        "\n",
        "    def search(self, item):\n",
        "        current = self.head\n",
        "        while current != None:\n",
        "            if current.data == item:\n",
        "                return True\n",
        "            else:\n",
        "                current = current.next\n",
        "        return False\n",
        "        \n",
        "\n",
        "    def deleteItem(self, item):\n",
        "        current = self.head\n",
        "        previous = None\n",
        "        found = False\n",
        "        while not found:\n",
        "            if current.data == item:\n",
        "                found = True\n",
        "            else:\n",
        "                previous = current\n",
        "                current = current.next\n",
        "        if previous != None:\n",
        "            previous.next = current.next\n",
        "\n",
        "    def getAllData(self):\n",
        "        current = self.head\n",
        "        while current:\n",
        "            print(current.data, end = ' ')\n",
        "            current = current.next\n",
        "        print()\n",
        "\n",
        "    def deleteAtPosition(self, position):\n",
        "        current = self.head\n",
        "        previous = None\n",
        "        count = 0\n",
        "        while(current != None):\n",
        "            if count == position:\n",
        "                if previous == None:\n",
        "                    self.head = current.next\n",
        "                    del current\n",
        "                    return self.head\n",
        "                else:\n",
        "                    previous.next = current.next\n",
        "                    del current\n",
        "                    return self.head\n",
        "                \n",
        "            previous = current\n",
        "            current = current.next\n",
        "            count += 1\n",
        "        return self.head\n",
        "\n",
        "if __name__ == '__main__':\n",
        "    myList = LinkedList()\n",
        "\n",
        "    print(myList.head)\n",
        "\n",
        "    myList.insertfirst(12)\n",
        "    myList.insertfirst(2)\n",
        "    myList.insertfirst(22)\n",
        "    myList.insertfirst(32)\n",
        "    myList.insertfirst(42)\n",
        "    myList.getAllData()\n",
        "\n",
        "    #print(myList.size())\n",
        "\n",
        "    print(myList.search(93))\n",
        "    print(myList.search(12))\n",
        "    #myList.getAllData()\n",
        "    \n",
        "    myList.insertLast(44)\n",
        "    myList.insertLast(441)\n",
        "    myList.getAllData()\n",
        "    \n",
        "    #myList.remove(12)\n",
        "    #myList.getAllData()\n",
        "    #myList.deleteAtPosition(3)\n",
        "    #myList.getAllData()\n"
      ]
    },
    {
      "cell_type": "code",
      "source": [
        "class Node:\n",
        "  def __init__(self,data,next=None):\n",
        "    self.data=data\n",
        "    self.next=next\n",
        "  \n",
        "class LinkedList:\n",
        "  def __init__(self):\n",
        "    self.head=None\n",
        "  def insertfirst(self,element):\n",
        "    temp=Node(element)\n",
        "    temp.next=self.head\n",
        "    self.head=temp\n",
        "  def insertLast(self,element):\n",
        "    temp=Node(element)\n",
        "    current=self.head\n",
        "    while current.next!=None:\n",
        "      current=current.next\n",
        "    current.next=temp\n",
        "  def getAllData(self):\n",
        "        current = self.head\n",
        "        while current:\n",
        "            print(current.data, end = ' ')\n",
        "            current = current.next\n",
        "        print()\n",
        "\n",
        "if __name__ == '__main__':\n",
        "    myList = LinkedList()\n",
        "\n",
        "    print(myList.head)\n",
        "\n",
        "    myList.insertfirst(12)\n",
        "    myList.insertfirst(2)\n",
        "    myList.insertfirst(22)\n",
        "    myList.insertfirst(32)\n",
        "    myList.insertfirst(42)\n",
        "    myList.getAllData()"
      ],
      "metadata": {
        "id": "w3Zm5kSxvffF",
        "colab": {
          "base_uri": "https://localhost:8080/"
        },
        "outputId": "ffd53583-3361-487b-9fb1-71e2690eb408"
      },
      "execution_count": null,
      "outputs": [
        {
          "output_type": "stream",
          "name": "stdout",
          "text": [
            "None\n",
            "42 32 22 2 12 \n"
          ]
        }
      ]
    }
  ]
}